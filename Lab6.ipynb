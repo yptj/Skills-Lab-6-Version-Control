{
 "cells": [
  {
   "cell_type": "code",
   "execution_count": 2,
   "id": "5bda5ee3-f2f8-4632-858f-e7b012bd6643",
   "metadata": {},
   "outputs": [
    {
     "name": "stdin",
     "output_type": "stream",
     "text": [
      "Enter your name:  yx\n",
      "Enter your birth year:  2001\n"
     ]
    },
    {
     "name": "stdout",
     "output_type": "stream",
     "text": [
      "Hello yx, you are 24 years old in 2025!\n"
     ]
    }
   ],
   "source": [
    "name = input(\"Enter your name: \")\n",
    "birth_year = int(input(\"Enter your birth year: \"))\n",
    "age = 2025 - birth_year\n",
    "print(f\"Hello {name}, you are {age} years old in 2025!\")"
   ]
  },
  {
   "cell_type": "code",
   "execution_count": null,
   "id": "b451c4c1-76ed-440b-a3c5-267e2cf8fcae",
   "metadata": {},
   "outputs": [],
   "source": []
  }
 ],
 "metadata": {
  "kernelspec": {
   "display_name": "Python 3 (ipykernel)",
   "language": "python",
   "name": "python3"
  },
  "language_info": {
   "codemirror_mode": {
    "name": "ipython",
    "version": 3
   },
   "file_extension": ".py",
   "mimetype": "text/x-python",
   "name": "python",
   "nbconvert_exporter": "python",
   "pygments_lexer": "ipython3",
   "version": "3.11.5"
  }
 },
 "nbformat": 4,
 "nbformat_minor": 5
}
